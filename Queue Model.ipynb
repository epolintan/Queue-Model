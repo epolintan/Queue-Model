{
 "cells": [
  {
   "cell_type": "markdown",
   "metadata": {},
   "source": [
    "# Queue Analysis\n",
    "\n",
    "Inputs:\n",
    "\n",
    "queue_model_parms\n",
    "\n",
    "queue_model_arrivals\n",
    "\n",
    "Outputs:\n",
    "\n",
    "Lq = Average number of customers in the queue\n",
    "\n",
    "Wq = Average waiting time in the queue"
   ]
  },
  {
   "cell_type": "markdown",
   "metadata": {},
   "source": [
    "###### Parameters"
   ]
  },
  {
   "cell_type": "code",
   "execution_count": 240,
   "metadata": {},
   "outputs": [],
   "source": [
    "import pandas as pd\n",
    "import numpy as np\n",
    "import math\n",
    "import simpy as sp\n",
    "import matplotlib.pyplot as plt\n",
    "# Read Arrivals file\n",
    "Arrivals = pd.read_excel('Queue Model - Arrivals.xlsx')\n",
    "Parms = pd.read_excel('Queue Model - Parms.xlsx', sheet_name='Parameters')\n",
    "Values = Parms['Value']\n",
    "# Get Mu (𝜇), the service rate (transactions per hour)\n",
    "Mu = Values[2]\n",
    "# Get s, the number of servers (also referred to as n in Queueing Theory)\n",
    "s = Values[4]       \n",
    "Growth = Values[3] /100\n",
    "env = sp.Environment()"
   ]
  },
  {
   "cell_type": "markdown",
   "metadata": {},
   "source": [
    "###### Calculate Lambda (𝜆) : average number of customers for every timeslot   "
   ]
  },
  {
   "cell_type": "code",
   "execution_count": 241,
   "metadata": {},
   "outputs": [],
   "source": [
    "startnum = 400\n",
    "Lambda = [] \n",
    "Hour = []\n",
    "for i in range(0,18):\n",
    "    startnum = startnum + 100\n",
    "    Hour.append(str(startnum))\n",
    "    label = \"T\" + str(startnum)\n",
    "    number = Arrivals[label].mean()\n",
    "    # round up the average \n",
    "    result = math.ceil(number)\n",
    "    calc_cust_count = result + (result * Growth)\n",
    "    result = math.ceil(calc_cust_count)\n",
    "    Lambda.append(result)\n"
   ]
  },
  {
   "cell_type": "markdown",
   "metadata": {},
   "source": [
    "###### Calculate Rho (ρ) = 𝜆 / s𝜇  "
   ]
  },
  {
   "cell_type": "code",
   "execution_count": 242,
   "metadata": {},
   "outputs": [],
   "source": [
    "Rho = [] \n",
    "for i in range(0,18):\n",
    "    calc_rho = (Lambda[i]) / (s * Mu) \n",
    "    Rho.append(calc_rho)"
   ]
  },
  {
   "cell_type": "markdown",
   "metadata": {},
   "source": [
    "###### Calculate Term0 = (𝜆/𝜇)^𝑛/𝑛! \n"
   ]
  },
  {
   "cell_type": "code",
   "execution_count": 243,
   "metadata": {},
   "outputs": [],
   "source": [
    "Term0 = [] \n",
    "for i in range(0,18):\n",
    "    fact_s = math.factorial(s)\n",
    "    t1 = Lambda[i] / Mu\n",
    "    calc_Term0 = pow(t1,s) / fact_s \n",
    "    Term0.append(calc_Term0)"
   ]
  },
  {
   "cell_type": "markdown",
   "metadata": {},
   "source": [
    "###### Calculate Term1"
   ]
  },
  {
   "cell_type": "code",
   "execution_count": 244,
   "metadata": {},
   "outputs": [],
   "source": [
    "Term1 = []\n",
    "Constant1 = 1\n",
    "for i in range(0,18):\n",
    "    if s==1:\n",
    "        print('s = 1', 'i=',i)\n",
    "        Term1[i] = Constant1\n",
    "        Term1.append(Term1[i])\n",
    "    else:\n",
    "        calc_Term1 = 0\n",
    "        for j in range(1,int(s)):\n",
    "            Fact_j = math.factorial(j)\n",
    "            x = Lambda[i] / Mu\n",
    "            temp = pow(x,j) / Fact_j \n",
    "            calc_Term1 = calc_Term1 + temp\n",
    "            # print('i =',i,' j=',j,'  calc_Term1', calc_Term1) \n",
    "        Term1.append(calc_Term1 + Constant1)                    "
   ]
  },
  {
   "cell_type": "markdown",
   "metadata": {},
   "source": [
    "###### Calculate Term2 = ((𝜆/𝜇)^s/s!)/(1-𝜆/(s*𝜇)) "
   ]
  },
  {
   "cell_type": "code",
   "execution_count": 245,
   "metadata": {},
   "outputs": [],
   "source": [
    "\n",
    "Constant1 = 1\n",
    "fact_s = math.factorial(s)\n",
    "Term2 = []\n",
    "for i in range(0,18):\n",
    "    denominator = (1 - (Lambda[i]) / (s*Mu))\n",
    "    calc_Term2 = Term0[i] / denominator \n",
    "    Term2.append(calc_Term2)\n"
   ]
  },
  {
   "cell_type": "markdown",
   "metadata": {},
   "source": [
    "###### Calculate P0 (Probability the queue is empty)\n",
    "\n",
    "P0 = 1 / (Term1 + Term2)"
   ]
  },
  {
   "cell_type": "code",
   "execution_count": 246,
   "metadata": {},
   "outputs": [],
   "source": [
    "P0 = []\n",
    "for i in range(0,18):\n",
    "    calc_P0 = 1 / (Term1[i] + Term2[i])\n",
    "    P0.append(calc_P0)"
   ]
  },
  {
   "cell_type": "markdown",
   "metadata": {},
   "source": [
    "###### Calculate Lq (Average number of customers in the queue)\n",
    "\n",
    "Lq = P0*((𝜆/𝜇)^𝑛/𝑛!)*rho/(1-rh)^2"
   ]
  },
  {
   "cell_type": "code",
   "execution_count": 247,
   "metadata": {},
   "outputs": [],
   "source": [
    "Lq = []\n",
    "for i in range(0,18):\n",
    "    x = 1-Rho[i]\n",
    "    calc_Lq =( P0[i] * Term0[i] * Rho[i]) / pow(x,2)\n",
    "    Lq.append(calc_Lq)\n"
   ]
  },
  {
   "cell_type": "markdown",
   "metadata": {},
   "source": [
    "###### Calculate Wq (Average Waiting time in the queue) \n",
    "\n",
    "Wq (Hours) =  (Lq / Lambda)\n",
    "\n",
    "Wq (Mins) = Wq (Hours) * 60"
   ]
  },
  {
   "cell_type": "code",
   "execution_count": 248,
   "metadata": {},
   "outputs": [],
   "source": [
    "Wq = []\n",
    "for i in range(0,18):\n",
    "    calc_Wq = (Lq[i] / Lambda[i] ) * 60\n",
    "    Wq.append(calc_Wq)"
   ]
  },
  {
   "cell_type": "markdown",
   "metadata": {},
   "source": [
    "# Summary Table"
   ]
  },
  {
   "cell_type": "code",
   "execution_count": 249,
   "metadata": {},
   "outputs": [
    {
     "name": "stdout",
     "output_type": "stream",
     "text": [
      "Hour \t Ave # of Customers in Queue \t Average Waiting Time (Mins) \n",
      "500 \t 5 \t \t \t \t 0.010495161730442267\n",
      "600 \t 17 \t \t \t \t 0.12919954400160943\n",
      "700 \t 27 \t \t \t \t 0.36544101060230105\n",
      "800 \t 31 \t \t \t \t 0.514660597134824\n",
      "900 \t 19 \t \t \t \t 0.16429627944020936\n",
      "1000 \t 21 \t \t \t \t 0.20480668756530823\n",
      "1100 \t 21 \t \t \t \t 0.20480668756530823\n",
      "1200 \t 19 \t \t \t \t 0.16429627944020936\n",
      "1300 \t 30 \t \t \t \t 0.4734848484848484\n",
      "1400 \t 33 \t \t \t \t 0.606060606060606\n",
      "1500 \t 36 \t \t \t \t 0.7700534759358287\n",
      "1600 \t 29 \t \t \t \t 0.4350187508082245\n",
      "1700 \t 30 \t \t \t \t 0.4734848484848484\n",
      "1800 \t 14 \t \t \t \t 0.08566433566433568\n",
      "1900 \t 17 \t \t \t \t 0.12919954400160943\n",
      "2000 \t 15 \t \t \t \t 0.09902951079421665\n",
      "2100 \t 17 \t \t \t \t 0.12919954400160943\n",
      "2200 \t 8 \t \t \t \t 0.027111751249682292\n"
     ]
    }
   ],
   "source": [
    " print('Hour', '\\t', 'Ave # of Customers in Queue', '\\t', 'Average Waiting Time (Mins) ')\n",
    "for i in range(0,18):\n",
    "    print(Hour[i],'\\t', Lambda[i], '\\t', '\\t','\\t', '\\t',Wq[i] )"
   ]
  },
  {
   "cell_type": "markdown",
   "metadata": {},
   "source": [
    "# Visualizations"
   ]
  },
  {
   "cell_type": "code",
   "execution_count": 250,
   "metadata": {},
   "outputs": [
    {
     "data": {
      "text/plain": [
       "Text(0, 0.5, 'Waiting time at the queue')"
      ]
     },
     "execution_count": 250,
     "metadata": {},
     "output_type": "execute_result"
    },
    {
     "data": {
      "text/plain": [
       "<Figure size 432x288 with 0 Axes>"
      ]
     },
     "metadata": {},
     "output_type": "display_data"
    },
    {
     "data": {
      "image/png": "[encoded data removed]",
      "text/plain": [
       "<Figure size 1080x360 with 1 Axes>"
      ]
     },
     "metadata": {
      "needs_background": "light"
     },
     "output_type": "display_data"
    },
    {
     "data": {
      "image/png": "[encoded data removed]",
      "text/plain": [
       "<Figure size 1080x360 with 1 Axes>"
      ]
     },
     "metadata": {
      "needs_background": "light"
     },
     "output_type": "display_data"
    }
   ],
   "source": [
    "# Visualizations \n",
    "plt.figure(1)\n",
    "plt.figure(figsize=(15, 5))\n",
    "plt.plot(Hour, Lambda, linewidth=3.0)\n",
    "plt.xlabel(\"Hour\")\n",
    "plt.ylabel(\"Number of customers arriving\")\n",
    "\n",
    "plt.figure(2)\n",
    "plt.figure(figsize=(15, 5))\n",
    "plt.plot(Hour, Wq, linewidth=3.0, color='r')\n",
    "plt.xlabel(\"Hour\")\n",
    "plt.ylabel(\"Waiting time at the queue\")\n",
    "\n"
   ]
  },
  {
   "cell_type": "code",
   "execution_count": null,
   "metadata": {},
   "outputs": [],
   "source": []
  }
 ],
 "metadata": {
  "kernelspec": {
   "display_name": "Python 3",
   "language": "python",
   "name": "python3"
  },
  "language_info": {
   "codemirror_mode": {
    "name": "ipython",
    "version": 3
   },
   "file_extension": ".py",
   "mimetype": "text/x-python",
   "name": "python",
   "nbconvert_exporter": "python",
   "pygments_lexer": "ipython3",
   "version": "3.7.6"
  }
 },
 "nbformat": 4,
 "nbformat_minor": 4
}
